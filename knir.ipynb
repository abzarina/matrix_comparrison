{
 "cells": [
  {
   "cell_type": "code",
   "execution_count": 3,
   "metadata": {},
   "outputs": [],
   "source": [
    "import copy"
   ]
  },
  {
   "cell_type": "code",
   "execution_count": 36,
   "metadata": {},
   "outputs": [],
   "source": [
    "class RowsMatrix():\n",
    "    def __init__(self, list_of_lists):\n",
    "        self.matrix = copy.deepcopy(list_of_lists)\n",
    "\n",
    "    def __str__(self):\n",
    "        return '\\n'.join('\\t'.join(map(str, row))\n",
    "                         for row in self.matrix)\n",
    "    \n",
    "    def size(self):\n",
    "        rows = len(self.matrix)\n",
    "        cols = len(self.matrix[0])\n",
    "        return (rows, cols)\n",
    "    \n",
    "    def transpose(self):\n",
    "        (cols, rows) = (self.size()[0], self.size()[1])\n",
    "\n",
    "        transposed_matrix = [[0] * cols for _ in range(rows)]\n",
    "\n",
    "        for i in range(cols):\n",
    "            for j in range(rows):\n",
    "                transposed_matrix[j][i] = self.matrix[i][j]\n",
    "        return(RowsMatrix(transposed_matrix))\n",
    "    \n",
    "    def __add__(self, other):\n",
    "        if not (isinstance(other, RowsMatrix) or isinstance(other, ColumnsMatrix)):\n",
    "            raise ValueError(\"Матрицу можно складывать только с матрицей\")\n",
    "        if self.size()[0] != other.size()[0] or self.size()[1] != other.size()[1]:\n",
    "            raise ValueError(\"Матрицы должны иметь одинаковые размеры.\")\n",
    "        if isinstance(other, RowsMatrix):\n",
    "            result = [[0] * self.size()[1] for _ in range(self.size()[0])]\n",
    "            for i in range(self.size()[0]):\n",
    "                for j in range(self.size()[1]):\n",
    "                    result[i][j] = self.matrix[i][j] + other.matrix[i][j]\n",
    "            return RowsMatrix(result)\n",
    "        elif isinstance(other, ColumnsMatrix):\n",
    "            result = [[0] * self.size()[1] for _ in range(self.size()[0])]\n",
    "            for i in range(self.size()[0]):\n",
    "                for j in range(self.size()[1]):\n",
    "                    result[i][j] = self.matrix[i][j] + other.matrix[j][i]\n",
    "            return RowsMatrix(result)\n",
    "        \n",
    "    def __mul__(self, other):\n",
    "        if isinstance(other, int) or isinstance(other, float):\n",
    "            result = [[0] * self.size()[1] for _ in range(self.size()[0])]\n",
    "            for i in range(self.size()[0]):\n",
    "                for j in range(self.size()[1]):\n",
    "                    result[i][j] = self.matrix[i][j] * other\n",
    "            return RowsMatrix(result)\n",
    "        elif not (isinstance(other, RowsMatrix) or isinstance(other, ColumnsMatrix)):\n",
    "            raise ValueError(f\"Операция умножения не определена для данного типа данных\")\n",
    "        if self.size()[0] != other.size()[1]:\n",
    "            raise ValueError(\"Матрицы должны иметь подходящие размеры.\")\n",
    "        if isinstance(other, RowsMatrix):\n",
    "            result = [[0] * other.size()[1] for _ in range(self.size()[0])]\n",
    "            for i in range(self.size()[0]):\n",
    "                for j in range(other.size()[1]):\n",
    "                    for k in range(other.size()[0]):\n",
    "                        result[i][j] += self.matrix[i][k] * other.matrix[k][j]\n",
    "            return RowsMatrix(result)\n",
    "        elif isinstance(other, ColumnsMatrix):\n",
    "            result = [[0] * other.size()[1] for _ in range(self.size()[0])]\n",
    "            for i in range(self.size()[0]):\n",
    "                for j in range(other.size()[1]):\n",
    "                    for k in range(self.size()[1]):\n",
    "                        result[i][j] += self.matrix[i][k] * other.matrix[j][k]\n",
    "            return RowsMatrix(result)\n",
    "\n",
    "\n",
    "class ColumnsMatrix():\n",
    "    def __init__(self, list_of_lists):\n",
    "        self.matrix = copy.deepcopy(list_of_lists)\n",
    "\n",
    "    def size(self):\n",
    "        rows = len(self.matrix[0])\n",
    "        cols = len(self.matrix)\n",
    "        return (rows, cols)\n",
    "\n",
    "    def __str__(self):\n",
    "        rows = self.size()[0]\n",
    "        string = \"\"\n",
    "        for row in range(rows):\n",
    "            string +=\"\\t\".join(map(str, [self.matrix[col][row]\n",
    "                                         for col in range(len(self.matrix))]))\n",
    "            string += \"\\n\"\n",
    "        return string\n",
    "    \n",
    "    def transpose(self):\n",
    "        (cols, rows) = (self.size()[0], self.size()[1])\n",
    "\n",
    "        transposed_matrix = [[0] * rows for _ in range(cols)]\n",
    "\n",
    "        for i in range(rows):\n",
    "            for j in range(cols):\n",
    "                transposed_matrix[j][i] = self.matrix[i][j]\n",
    "        return ColumnsMatrix(transposed_matrix)\n",
    "\n",
    "    def __add__(self, other):\n",
    "        if not (isinstance(other, RowsMatrix) or isinstance(other, ColumnsMatrix)):\n",
    "            raise ValueError(\"Матрицу можно складывать только с матрицей\")\n",
    "        if self.size()[0] != other.size()[0] or self.size()[1] != other.size()[1]:\n",
    "            raise ValueError(\"Матрицы должны иметь одинаковые размеры.\")\n",
    "        if isinstance(other, ColumnsMatrix):\n",
    "            result = [[0] * self.size()[0] for _ in range(self.size()[1])]\n",
    "            for i in range(self.size()[1]):\n",
    "                for j in range(self.size()[0]):\n",
    "                    result[i][j] = self.matrix[i][j] + other.matrix[i][j]\n",
    "            return ColumnsMatrix(result)\n",
    "        elif isinstance(other, RowsMatrix):\n",
    "            result = [[0] * self.size()[0] for _ in range(self.size()[1])]\n",
    "            for i in range(self.size()[1]):\n",
    "                for j in range(self.size()[0]):\n",
    "                    result[i][j] = self.matrix[i][j] + other.matrix[j][i]\n",
    "            return ColumnsMatrix(result)\n",
    "        \n",
    "    def __mul__(self, other):\n",
    "        if isinstance(other, int) or isinstance(other, float):\n",
    "            result = [[0] * self.size()[0] for _ in range(self.size()[1])]\n",
    "            for i in range(self.size()[1]):\n",
    "                for j in range(self.size()[0]):\n",
    "                    result[i][j] = self.matrix[i][j] * other\n",
    "            return ColumnsMatrix(result)\n",
    "        elif not (isinstance(other, RowsMatrix) or isinstance(other, ColumnsMatrix)):\n",
    "            raise ValueError(f\"Операция умножения не определена для данного типа данных\")\n",
    "        if self.size()[0] != other.size()[1]:\n",
    "            raise ValueError(\"Матрицы должны иметь подходящие размеры.\")\n",
    "        if isinstance(other, ColumnsMatrix):\n",
    "            result = [[0] * other.size()[1] for _ in range(self.size()[0])]\n",
    "            for i in range(self.size()[0]):\n",
    "                for j in range(other.size()[1]):\n",
    "                    for k in range(self.size()[1]):\n",
    "                        result[i][j] += self.matrix[k][i] * other.matrix[j][k]\n",
    "            return ColumnsMatrix(result)\n",
    "        elif isinstance(other, RowsMatrix):\n",
    "            result = [[0] * other.size()[1] for _ in range(self.size()[0])]\n",
    "            for i in range(self.size()[0]):\n",
    "                for j in range(other.size()[1]):\n",
    "                    for k in range(other.size()[0]):\n",
    "                        result[i][j] += self.matrix[k][i] * other.matrix[k][j]\n",
    "            return ColumnsMatrix(result)"
   ]
  },
  {
   "attachments": {},
   "cell_type": "markdown",
   "metadata": {},
   "source": [
    "## Тест 1\n",
    "Транспозиция матриц"
   ]
  },
  {
   "cell_type": "code",
   "execution_count": 5,
   "metadata": {},
   "outputs": [],
   "source": [
    "import time\n",
    "import random"
   ]
  },
  {
   "cell_type": "code",
   "execution_count": 41,
   "metadata": {},
   "outputs": [
    {
     "name": "stdout",
     "output_type": "stream",
     "text": [
      "Пример: Транспозиция строковой матрицы\n",
      "Исходная матрица:\n",
      "65\t86\t64\t43\t84\n",
      "89\t48\t6\t92\t54\n",
      "98\t34\t29\t1\t15\n",
      "30\t68\t62\t1\t46\n",
      "84\t5\t65\t13\t7\n",
      "79\t13\t60\t80\t45\n",
      "28\t29\t86\t1\t66\n",
      "27\t17\t17\t69\t66\n",
      "\n",
      "Конечная матрица\n",
      "65\t89\t98\t30\t84\t79\t28\t27\n",
      "86\t48\t34\t68\t5\t13\t29\t17\n",
      "64\t6\t29\t62\t65\t60\t86\t17\n",
      "43\t92\t1\t1\t13\t80\t1\t69\n",
      "84\t54\t15\t46\t7\t45\t66\t66\n",
      "\n",
      "Прошло времени (мс): 0.6318092346191406\n"
     ]
    }
   ],
   "source": [
    "print(\"Пример: Транспозиция строковой матрицы\")\n",
    "n = random.randint(5, 10)\n",
    "m = random.randint(5, 10)\n",
    "\n",
    "RowMatrix1 = RowsMatrix([[random.randint(1, 100) for __ in range(m)] for _ in range(n)])\n",
    "print(\"Исходная матрица:\\n\", RowMatrix1, \"\\n\", sep=\"\")\n",
    "\n",
    "time_start = time.time()\n",
    "RowMatrix1_T = RowMatrix1.transpose()\n",
    "time_end = time.time()\n",
    "\n",
    "print(\"Конечная матрица\\n\", RowMatrix1_T, \"\\n\", sep=\"\")\n",
    "print(f\"Прошло времени (мс): {(time_end - time_start) * 10000}\")\n"
   ]
  },
  {
   "cell_type": "code",
   "execution_count": 42,
   "metadata": {},
   "outputs": [
    {
     "name": "stdout",
     "output_type": "stream",
     "text": [
      "Транспозиция строковой матрицы (900-1100 строк и стобцов)\n",
      "Запуск 1: Прошло времени (мс): 2828\n",
      "Запуск 2: Прошло времени (мс): 2514\n",
      "Запуск 3: Прошло времени (мс): 2507\n",
      "Запуск 4: Прошло времени (мс): 2850\n",
      "Запуск 5: Прошло времени (мс): 2567\n",
      "Запуск 6: Прошло времени (мс): 2608\n",
      "Запуск 7: Прошло времени (мс): 3377\n",
      "Запуск 8: Прошло времени (мс): 2523\n",
      "Запуск 9: Прошло времени (мс): 3139\n",
      "Запуск 10: Прошло времени (мс): 2666\n",
      "Среднее значение - 2757.9\n"
     ]
    }
   ],
   "source": [
    "print(\"Транспозиция строковой матрицы (900-1100 строк и стобцов)\")\n",
    "sum = 0\n",
    "for i in range(10):\n",
    "    n = random.randint(900, 1100)\n",
    "    m = random.randint(900, 1100)\n",
    "\n",
    "    RowMatrix2 = RowsMatrix([[random.randint(1, 100) for __ in range(m)] for _ in range(n)])\n",
    "\n",
    "    time_start = time.time()\n",
    "    RowMatrix2_T = RowMatrix2.transpose()\n",
    "    time_end = time.time()\n",
    "    elapsed_time = round((time_end - time_start) * 10000)\n",
    "    sum += elapsed_time\n",
    "\n",
    "    print(f\"Запуск {i+1}: Прошло времени (мс): {elapsed_time}\")\n",
    "print(f\"Среднее значение - {sum/10}\")\n",
    "\n"
   ]
  },
  {
   "cell_type": "code",
   "execution_count": 44,
   "metadata": {},
   "outputs": [
    {
     "name": "stdout",
     "output_type": "stream",
     "text": [
      "Транспозиция строковой матрицы (9 000-11 000 строк и стобцов)\n",
      "Прошло времени (мс): 91622\n"
     ]
    }
   ],
   "source": [
    "print(\"Транспозиция строковой матрицы (4500-5500 строк и стобцов)\")\n",
    "n = random.randint(4500, 5500)\n",
    "m = random.randint(4500, 5500)\n",
    "\n",
    "RowMatrix3 = RowsMatrix([[random.randint(1, 100) for __ in range(m)] for _ in range(n)])\n",
    "\n",
    "time_start = time.time()\n",
    "RowMatrix3_T = RowMatrix3.transpose()\n",
    "time_end = time.time()\n",
    "elapsed_time = round((time_end - time_start) * 10000)\n",
    "\n",
    "print(f\"Прошло времени (мс): {elapsed_time}\")"
   ]
  },
  {
   "cell_type": "code",
   "execution_count": 45,
   "metadata": {},
   "outputs": [
    {
     "name": "stdout",
     "output_type": "stream",
     "text": [
      "Пример: Транспозиция столбцовой матрицы (небольшие значения <= 10)\n",
      "Исходная матрица:\n",
      "62\t42\t34\t47\t94\t66\t69\t54\n",
      "64\t80\t2\t46\t92\t27\t18\t32\n",
      "5\t50\t34\t67\t66\t51\t96\t81\n",
      "65\t91\t91\t38\t85\t56\t51\t26\n",
      "68\t18\t16\t26\t41\t3\t64\t97\n",
      "29\t44\t74\t53\t58\t49\t17\t100\n",
      "67\t24\t89\t59\t71\t74\t27\t85\n",
      "32\t100\t97\t38\t22\t23\t4\t31\n",
      "\n",
      "\n",
      "Конечная матрица\n",
      "62\t64\t5\t65\t68\t29\t67\t32\n",
      "42\t80\t50\t91\t18\t44\t24\t100\n",
      "34\t2\t34\t91\t16\t74\t89\t97\n",
      "47\t46\t67\t38\t26\t53\t59\t38\n",
      "94\t92\t66\t85\t41\t58\t71\t22\n",
      "66\t27\t51\t56\t3\t49\t74\t23\n",
      "69\t18\t96\t51\t64\t17\t27\t4\n",
      "54\t32\t81\t26\t97\t100\t85\t31\n",
      "\n",
      "\n",
      "Прошло времени (мс): 1\n"
     ]
    }
   ],
   "source": [
    "print(\"Пример: Транспозиция столбцовой матрицы (небольшие значения <= 10)\")\n",
    "n = random.randint(5, 10)\n",
    "m = random.randint(5, 10)\n",
    "\n",
    "ColsMatrix1 = ColumnsMatrix([[random.randint(1, 100) for __ in range(m)] for _ in range(n)])\n",
    "print(\"Исходная матрица:\\n\", ColsMatrix1, \"\\n\", sep=\"\")\n",
    "\n",
    "time_start = time.time()\n",
    "ColsMatrix1_T = ColsMatrix1.transpose()\n",
    "time_end = time.time()\n",
    "elapsed_time = round((time_end - time_start) * 10000)\n",
    "\n",
    "print(\"Конечная матрица\\n\", ColsMatrix1_T, \"\\n\", sep=\"\")\n",
    "print(f\"Прошло времени (мс): {elapsed_time}\")"
   ]
  },
  {
   "cell_type": "code",
   "execution_count": 47,
   "metadata": {},
   "outputs": [
    {
     "name": "stdout",
     "output_type": "stream",
     "text": [
      "Транспозиция стобцовой матрицы (900-1100 строк и стобцов)\n",
      "Запуск 1: Прошло времени (мс): 2761\n",
      "Запуск 2: Прошло времени (мс): 2309\n",
      "Запуск 3: Прошло времени (мс): 2274\n",
      "Запуск 4: Прошло времени (мс): 2448\n",
      "Запуск 5: Прошло времени (мс): 2818\n",
      "Запуск 6: Прошло времени (мс): 2555\n",
      "Запуск 7: Прошло времени (мс): 2769\n",
      "Запуск 8: Прошло времени (мс): 2708\n",
      "Запуск 9: Прошло времени (мс): 2482\n",
      "Запуск 10: Прошло времени (мс): 2583\n",
      "Среднее значение - 2570.7\n"
     ]
    }
   ],
   "source": [
    "print(\"Транспозиция стобцовой матрицы (900-1100 строк и стобцов)\")\n",
    "sum = 0\n",
    "for i in range(10):\n",
    "    n = random.randint(900, 1100)\n",
    "    m = random.randint(900, 1100)\n",
    "\n",
    "    ColsMatrix2 = ColumnsMatrix([[random.randint(1, 100)] * m for _ in range(n)])\n",
    "\n",
    "    time_start = time.time()\n",
    "    ColsMatrix2_T = ColsMatrix2.transpose()\n",
    "    time_end = time.time()\n",
    "    elapsed_time = round((time_end - time_start) * 10000)\n",
    "    sum += elapsed_time\n",
    "\n",
    "    print(f\"Запуск {i+1}: Прошло времени (мс): {elapsed_time}\")\n",
    "print(f\"Среднее значение - {sum/10}\")\n"
   ]
  },
  {
   "cell_type": "code",
   "execution_count": 48,
   "metadata": {},
   "outputs": [
    {
     "name": "stdout",
     "output_type": "stream",
     "text": [
      "Транспозиция строковой матрицы (4500-5500 строк и стобцов)\n",
      "Прошло времени (мс): 153402\n"
     ]
    }
   ],
   "source": [
    "print(\"Транспозиция строковой матрицы (4500-5500 строк и стобцов)\")\n",
    "n = random.randint(4500, 5500)\n",
    "m = random.randint(4500, 5500)\n",
    "\n",
    "ColsMatrix3 = ColumnsMatrix([[random.randint(1, 100)] * m for _ in range(n)])\n",
    "\n",
    "time_start = time.time()\n",
    "ColsMatrix3_T = ColsMatrix3.transpose()\n",
    "time_end = time.time()\n",
    "\n",
    "print(f\"Прошло времени (мс): {round((time_end - time_start) * 10000)}\")"
   ]
  },
  {
   "attachments": {},
   "cell_type": "markdown",
   "metadata": {},
   "source": [
    "## Тест 2\n",
    "Сложение матриц одного типа"
   ]
  },
  {
   "cell_type": "code",
   "execution_count": 50,
   "metadata": {},
   "outputs": [
    {
     "name": "stdout",
     "output_type": "stream",
     "text": [
      "Пример: Сложение строковых матриц (небольшие значения)\n",
      "Исходные матрицы:\n",
      "91\t55\t60\t22\t66\t35\n",
      "28\t42\t79\t34\t30\t8\n",
      "47\t15\t83\t36\t86\t91\n",
      "8\t32\t29\t41\t43\t67\n",
      "92\t42\t100\t11\t26\t7\n",
      "64\t84\t67\t28\t65\t52\n",
      "\n",
      "82\t39\t55\t39\t90\t60\n",
      "74\t60\t63\t1\t19\t18\n",
      "97\t8\t49\t70\t93\t56\n",
      "7\t93\t1\t22\t59\t29\n",
      "44\t35\t7\t41\t12\t37\n",
      "82\t73\t69\t80\t41\t62\n",
      "Конечная матрица\n",
      "173\t94\t115\t61\t156\t95\n",
      "102\t102\t142\t35\t49\t26\n",
      "144\t23\t132\t106\t179\t147\n",
      "15\t125\t30\t63\t102\t96\n",
      "136\t77\t107\t52\t38\t44\n",
      "146\t157\t136\t108\t106\t114\n",
      "\n",
      "Прошло времени (мс): 0.7891654968261719\n"
     ]
    }
   ],
   "source": [
    "print(\"Пример: Сложение строковых матриц (небольшие значения)\")\n",
    "\n",
    "n = random.randint(5, 7)\n",
    "m = random.randint(5, 7)\n",
    "\n",
    "RowMatrix1 = RowsMatrix([[random.randint(1, 100) for __ in range(m)] for _ in range(n)])\n",
    "RowMatrix2 = RowsMatrix([[random.randint(1, 100) for __ in range(m)] for _ in range(n)])\n",
    "\n",
    "print(\"Исходные матрицы:\\n\", RowMatrix1, \"\\n\\n\", RowMatrix2, sep=\"\")\n",
    "\n",
    "time_start = time.time()\n",
    "RowMatrix3 = RowMatrix1 + RowMatrix2\n",
    "time_end = time.time()\n",
    "\n",
    "print(\"Конечная матрица\\n\", RowMatrix3, \"\\n\", sep=\"\")\n",
    "print(f\"Прошло времени (мс): {(time_end - time_start) * 10000}\")"
   ]
  },
  {
   "cell_type": "code",
   "execution_count": 55,
   "metadata": {},
   "outputs": [
    {
     "name": "stdout",
     "output_type": "stream",
     "text": [
      "Сложение строковых матриц (количество строк и столбцов порядка 1000)\n",
      "Запуск 1: Прошло времени (мс): 3819\n",
      "Запуск 2: Прошло времени (мс): 4083\n",
      "Запуск 3: Прошло времени (мс): 4136\n",
      "Запуск 4: Прошло времени (мс): 4311\n",
      "Запуск 5: Прошло времени (мс): 4014\n",
      "Запуск 6: Прошло времени (мс): 4767\n",
      "Запуск 7: Прошло времени (мс): 4012\n",
      "Запуск 8: Прошло времени (мс): 4871\n",
      "Запуск 9: Прошло времени (мс): 3853\n",
      "Запуск 10: Прошло времени (мс): 3541\n",
      "Среднее значение - 4140.7\n"
     ]
    }
   ],
   "source": [
    "print(\"Сложение строковых матриц (количество строк и столбцов порядка 1000)\")\n",
    "sum = 0\n",
    "for i in range(10):\n",
    "    n = random.randint(900, 1100)\n",
    "    m = random.randint(900, 1100)\n",
    "\n",
    "    RowMatrix4 = RowsMatrix([[[random.randint(1, 100) for __ in range(m)] for _ in range(n)]])\n",
    "    RowMatrix5 = RowsMatrix([[[random.randint(1, 100) for __ in range(m)] for _ in range(n)]])\n",
    "\n",
    "    time_start = time.time()\n",
    "    RowMatrix6 = RowMatrix4 + RowMatrix5\n",
    "    time_end = time.time()\n",
    "    elapsed_time = round((time_end - time_start) * 10000)\n",
    "    sum += elapsed_time\n",
    "\n",
    "    print(f\"Запуск {i+1}: Прошло времени (мс): {elapsed_time}\")\n",
    "print(f\"Среднее значение - {sum/10}\")"
   ]
  },
  {
   "cell_type": "code",
   "execution_count": 52,
   "metadata": {},
   "outputs": [
    {
     "name": "stdout",
     "output_type": "stream",
     "text": [
      "Сложение строковых матриц (количество строк и столбцов порядка 5000)\n",
      "Прошло времени (мс): 120336.72094345093\n"
     ]
    }
   ],
   "source": [
    "print(\"Сложение строковых матриц (количество строк и столбцов порядка 5000)\")\n",
    "n = random.randint(4500, 5500)\n",
    "m = random.randint(4500, 5500)\n",
    "\n",
    "RowMatrix7 = RowsMatrix([[[random.randint(1, 100) for __ in range(m)] for _ in range(n)]])\n",
    "RowMatrix8 = RowsMatrix([[[random.randint(1, 100) for __ in range(m)] for _ in range(n)]])\n",
    "\n",
    "time_start = time.time()\n",
    "RowMatrix9 = RowMatrix7 + RowMatrix8\n",
    "time_end = time.time()\n",
    "\n",
    "print(f\"Прошло времени (мс): {(time_end - time_start) * 10000}\")"
   ]
  },
  {
   "cell_type": "code",
   "execution_count": 59,
   "metadata": {},
   "outputs": [
    {
     "name": "stdout",
     "output_type": "stream",
     "text": [
      "Пример: Сложение стобцовых матриц (небольшие значения)\n",
      "Исходные матрицы:\n",
      "24\t78\t63\t39\t6\t6\n",
      "81\t25\t14\t32\t33\t80\n",
      "56\t29\t5\t93\t94\t8\n",
      "61\t13\t90\t27\t13\t91\n",
      "95\t57\t98\t43\t12\t55\n",
      "26\t20\t68\t20\t11\t9\n",
      "84\t12\t95\t23\t69\t11\n",
      "\n",
      "\n",
      "8\t7\t37\t83\t24\t88\n",
      "100\t28\t63\t92\t36\t49\n",
      "57\t9\t37\t40\t39\t41\n",
      "64\t20\t41\t75\t2\t10\n",
      "76\t77\t70\t95\t82\t5\n",
      "76\t36\t57\t83\t64\t23\n",
      "36\t73\t72\t31\t40\t66\n",
      "\n",
      "Конечная матрица\n",
      "32\t85\t100\t122\t30\t94\n",
      "181\t53\t77\t124\t69\t129\n",
      "113\t38\t42\t133\t133\t49\n",
      "125\t33\t131\t102\t15\t101\n",
      "171\t134\t168\t138\t94\t60\n",
      "102\t56\t125\t103\t75\t32\n",
      "120\t85\t167\t54\t109\t77\n",
      "\n",
      "Прошло времени (мс): 0.7390975952148438\n"
     ]
    }
   ],
   "source": [
    "print(\"Пример: Сложение стобцовых матриц (небольшие значения)\")\n",
    "n = random.randint(5, 7)\n",
    "m = random.randint(5, 7)\n",
    "\n",
    "ColMatrix1 = ColumnsMatrix([[random.randint(1, 100) for __ in range(m)] for _ in range(n)])\n",
    "ColMatrix2 = ColumnsMatrix([[random.randint(1, 100) for __ in range(m)] for _ in range(n)])\n",
    "\n",
    "print(\"Исходные матрицы:\\n\", ColMatrix1, \"\\n\\n\", ColMatrix2, sep=\"\")\n",
    "\n",
    "time_start = time.time()\n",
    "ColMatrix3 = ColMatrix1 + ColMatrix2\n",
    "time_end = time.time()\n",
    "\n",
    "print(\"Конечная матрица\\n\", ColMatrix3, sep=\"\")\n",
    "print(f\"Прошло времени (мс): {(time_end - time_start) * 10000}\")"
   ]
  },
  {
   "cell_type": "code",
   "execution_count": 61,
   "metadata": {},
   "outputs": [
    {
     "name": "stdout",
     "output_type": "stream",
     "text": [
      "Сложение стобцовых матриц (количество строк и столбцов порядка 1000)\n",
      "Запуск 1: Прошло времени (мс): 4142\n",
      "Запуск 2: Прошло времени (мс): 4556\n",
      "Запуск 3: Прошло времени (мс): 3956\n",
      "Запуск 4: Прошло времени (мс): 4182\n",
      "Запуск 5: Прошло времени (мс): 3889\n",
      "Запуск 6: Прошло времени (мс): 4343\n",
      "Запуск 7: Прошло времени (мс): 3997\n",
      "Запуск 8: Прошло времени (мс): 4146\n",
      "Запуск 9: Прошло времени (мс): 4815\n",
      "Запуск 10: Прошло времени (мс): 3599\n",
      "Среднее значение - 4162.5\n"
     ]
    }
   ],
   "source": [
    "print(\"Сложение стобцовых матриц (количество строк и столбцов порядка 1000)\")\n",
    "sum = 0   \n",
    "for i in range(10):\n",
    "    n = random.randint(900, 1100)\n",
    "    m = random.randint(900, 1100)\n",
    "\n",
    "    ColMatrix4 = ColumnsMatrix([[[random.randint(1, 100)] * m for _ in range(n)]])\n",
    "    ColMatrix5 = ColumnsMatrix([[[random.randint(1, 100)] * m for _ in range(n)]])\n",
    "\n",
    "    time_start = time.time()\n",
    "    ColMatrix6 = ColMatrix4 + ColMatrix5\n",
    "    time_end = time.time()\n",
    "    elapsed_time = round((time_end - time_start) * 10000)\n",
    "    sum += elapsed_time\n",
    "\n",
    "    print(f\"Запуск {i+1}: Прошло времени (мс): {elapsed_time}\")\n",
    "print(f\"Среднее значение - {sum/10}\")"
   ]
  },
  {
   "cell_type": "code",
   "execution_count": 63,
   "metadata": {},
   "outputs": [
    {
     "name": "stdout",
     "output_type": "stream",
     "text": [
      "Сложение стобцовых матриц (количество строк и столбцов порядка 5000)\n",
      "Прошло времени (мс): 131560.7190132141\n"
     ]
    }
   ],
   "source": [
    "print(\"Сложение стобцовых матриц (количество строк и столбцов порядка 5000)\")\n",
    "n = random.randint(4500, 5500)\n",
    "m = random.randint(4500, 5500)\n",
    "\n",
    "ColMatrix7 = ColumnsMatrix([[[random.randint(1, 100)] * m for _ in range(n)]])\n",
    "ColMatrix8 = ColumnsMatrix([[[random.randint(1, 100)] * m for _ in range(n)]])\n",
    "\n",
    "time_start = time.time()\n",
    "ColMatrix9 = ColMatrix7 + ColMatrix8\n",
    "time_end = time.time()\n",
    "\n",
    "print(f\"Прошло времени (мс): {(time_end - time_start) * 10000}\")"
   ]
  },
  {
   "attachments": {},
   "cell_type": "markdown",
   "metadata": {},
   "source": [
    "## Тест 3\n",
    "Сложении матриц разного типа"
   ]
  },
  {
   "cell_type": "code",
   "execution_count": 67,
   "metadata": {},
   "outputs": [
    {
     "name": "stdout",
     "output_type": "stream",
     "text": [
      "Пример: Строковая + Стоблцовая матрица\n",
      "Исходные матрицы:\n",
      "44\t15\t80\t11\t57\t5\n",
      "17\t9\t60\t68\t28\t44\n",
      "62\t47\t6\t3\t72\t56\n",
      "97\t81\t10\t94\t85\t86\n",
      "52\t12\t86\t74\t11\t12\n",
      "17\t41\t75\t96\t74\t49\n",
      "48\t81\t11\t7\t92\t76\n",
      "\n",
      "96\t73\t30\t98\t19\t52\n",
      "89\t100\t25\t33\t13\t83\n",
      "35\t83\t97\t62\t22\t64\n",
      "41\t80\t92\t38\t96\t27\n",
      "30\t42\t75\t31\t91\t54\n",
      "86\t40\t96\t98\t92\t36\n",
      "94\t54\t100\t93\t29\t70\n",
      "\n",
      "Конечная матрица\n",
      "140\t88\t110\t109\t76\t57\n",
      "106\t109\t85\t101\t41\t127\n",
      "97\t130\t103\t65\t94\t120\n",
      "138\t161\t102\t132\t181\t113\n",
      "82\t54\t161\t105\t102\t66\n",
      "103\t81\t171\t194\t166\t85\n",
      "142\t135\t111\t100\t121\t146\n",
      "\n",
      "Прошло времени (мс): 0.7605552673339844\n"
     ]
    }
   ],
   "source": [
    "print(\"Пример: Строковая + Стоблцовая матрица\")\n",
    "\n",
    "n = random.randint(5, 7)\n",
    "m = random.randint(5, 7)\n",
    "\n",
    "RowMatrix1 = RowsMatrix([[random.randint(1, 100) for __ in range(n)] for _ in range(m)])\n",
    "ColMatrix1 = ColumnsMatrix([[random.randint(1, 100) for __ in range(m)] for _ in range(n)])\n",
    "\n",
    "print(\"Исходные матрицы:\\n\", RowMatrix1, \"\\n\\n\", ColMatrix1, sep=\"\")\n",
    "\n",
    "time_start = time.time()\n",
    "ResMatrix1 = RowMatrix1 + ColMatrix1\n",
    "time_end = time.time()\n",
    "\n",
    "print(\"Конечная матрица\\n\", ResMatrix1, \"\\n\", sep=\"\")\n",
    "print(f\"Прошло времени (мс): {(time_end - time_start) * 10000}\")"
   ]
  },
  {
   "cell_type": "code",
   "execution_count": 88,
   "metadata": {},
   "outputs": [
    {
     "name": "stdout",
     "output_type": "stream",
     "text": [
      "Пример: Стоблцовая + Строковая матрица\n",
      "Исходные матрицы:\n",
      "40\t79\t56\t17\t45\t39\t96\n",
      "35\t72\t17\t36\t80\t87\t18\n",
      "69\t4\t79\t67\t35\t18\t99\n",
      "9\t36\t79\t44\t36\t15\t11\n",
      "6\t45\t75\t63\t99\t61\t81\n",
      "45\t89\t98\t85\t10\t39\t41\n",
      "5\t67\t61\t90\t59\t49\t71\n",
      "\n",
      "\n",
      "11\t9\t99\t40\t92\t86\t64\n",
      "48\t54\t28\t10\t77\t87\t33\n",
      "75\t96\t18\t16\t80\t8\t90\n",
      "82\t6\t12\t29\t89\t9\t20\n",
      "97\t89\t7\t14\t64\t39\t98\n",
      "47\t90\t59\t98\t10\t72\t75\n",
      "6\t16\t66\t80\t36\t80\t26\n",
      "Конечная матрица\n",
      "51\t88\t155\t57\t137\t125\t160\n",
      "83\t126\t45\t46\t157\t174\t51\n",
      "144\t100\t97\t83\t115\t26\t189\n",
      "91\t42\t91\t73\t125\t24\t31\n",
      "103\t134\t82\t77\t163\t100\t179\n",
      "92\t179\t157\t183\t20\t111\t116\n",
      "11\t83\t127\t170\t95\t129\t97\n",
      "\n",
      "\n",
      "Прошло времени (мс): 0.80108642578125\n"
     ]
    }
   ],
   "source": [
    "print(\"Пример: Стоблцовая + Строковая матрица\")\n",
    "\n",
    "n = random.randint(5, 7)\n",
    "m = random.randint(5, 7)\n",
    "\n",
    "RowMatrix2 = RowsMatrix([[random.randint(1, 100) for __ in range(n)] for _ in range(m)])\n",
    "ColMatrix2 = ColumnsMatrix([[random.randint(1, 100) for __ in range(m)] for _ in range(n)])\n",
    "\n",
    "print(\"Исходные матрицы:\\n\", ColMatrix2, \"\\n\\n\", RowMatrix2, sep=\"\")\n",
    "\n",
    "time_start = time.time()\n",
    "ResMatrix2 = ColMatrix2 + RowMatrix2\n",
    "time_end = time.time()\n",
    "\n",
    "print(\"Конечная матрица\\n\", ResMatrix2, \"\\n\", sep=\"\")\n",
    "print(f\"Прошло времени (мс): {(time_end - time_start) * 10000}\")"
   ]
  },
  {
   "cell_type": "code",
   "execution_count": 94,
   "metadata": {},
   "outputs": [
    {
     "name": "stdout",
     "output_type": "stream",
     "text": [
      "Стоблцовая + Строковая матрица (количество строк и столбцов порядка 1000)\n",
      "Запуск 1: Прошло времени (мс): 3368\n",
      "Запуск 2: Прошло времени (мс): 2870\n",
      "Запуск 3: Прошло времени (мс): 2522\n",
      "Запуск 4: Прошло времени (мс): 2723\n",
      "Запуск 5: Прошло времени (мс): 3061\n",
      "Запуск 6: Прошло времени (мс): 3405\n",
      "Запуск 7: Прошло времени (мс): 2978\n",
      "Запуск 8: Прошло времени (мс): 3195\n",
      "Запуск 9: Прошло времени (мс): 3431\n",
      "Запуск 10: Прошло времени (мс): 2852\n",
      "Среднее значение - 3040.5\n",
      "\n",
      "Строковая + Стоблцовая матрица (количество строк и столбцов порядка 1000)\n",
      "Запуск 1: Прошло времени (мс): 2872\n",
      "Запуск 2: Прошло времени (мс): 3420\n",
      "Запуск 3: Прошло времени (мс): 2995\n",
      "Запуск 4: Прошло времени (мс): 3242\n",
      "Запуск 5: Прошло времени (мс): 3273\n",
      "Запуск 6: Прошло времени (мс): 3065\n",
      "Запуск 7: Прошло времени (мс): 2972\n",
      "Запуск 8: Прошло времени (мс): 3216\n",
      "Запуск 9: Прошло времени (мс): 3211\n",
      "Запуск 10: Прошло времени (мс): 3175\n",
      "Среднее значение - 3144.1\n"
     ]
    }
   ],
   "source": [
    "print(\"Стоблцовая + Строковая матрица (количество строк и столбцов порядка 1000)\")\n",
    "sum = 0   \n",
    "for i in range(10):\n",
    "    n = random.randint(900, 1100)\n",
    "    m = random.randint(900, 1100)\n",
    "\n",
    "    RowMatrix3 = RowsMatrix([[random.randint(1, 100) for __ in range(n)] for _ in range(m)])\n",
    "    ColMatrix3 = ColumnsMatrix([[random.randint(1, 100) for __ in range(m)] for _ in range(n)])\n",
    "\n",
    "    time_start = time.time()\n",
    "    ResMatrix3 = ColMatrix3 + RowMatrix3\n",
    "    time_end = time.time()\n",
    "    elapsed_time = round((time_end - time_start) * 10000)\n",
    "    sum += elapsed_time\n",
    "\n",
    "    print(f\"Запуск {i+1}: Прошло времени (мс): {elapsed_time}\")\n",
    "print(f\"Среднее значение - {sum/10}\\n\")\n",
    "\n",
    "print(\"Строковая + Стоблцовая матрица (количество строк и столбцов порядка 1000)\")\n",
    "sum = 0   \n",
    "for i in range(10):\n",
    "    n = random.randint(900, 1100)\n",
    "    m = random.randint(900, 1100)\n",
    "\n",
    "    RowMatrix4 = RowsMatrix([[random.randint(1, 100) for __ in range(n)] for _ in range(m)])\n",
    "    ColMatrix4 = ColumnsMatrix([[random.randint(1, 100) for __ in range(m)] for _ in range(n)])\n",
    "\n",
    "    time_start = time.time()\n",
    "    ResMatrix4 = RowMatrix4 + ColMatrix4\n",
    "    time_end = time.time()\n",
    "    elapsed_time = round((time_end - time_start) * 10000)\n",
    "    sum += elapsed_time\n",
    "\n",
    "    print(f\"Запуск {i+1}: Прошло времени (мс): {elapsed_time}\")\n",
    "print(f\"Среднее значение - {sum/10}\")"
   ]
  },
  {
   "cell_type": "code",
   "execution_count": 95,
   "metadata": {},
   "outputs": [
    {
     "name": "stdout",
     "output_type": "stream",
     "text": [
      "Стоблцовая + Строковая матрица (количество строк и столбцов порядка 5000)\n",
      "Запуск 1: Прошло времени (мс): 88966\n",
      "Запуск 2: Прошло времени (мс): 82460\n",
      "Запуск 3: Прошло времени (мс): 115609\n",
      "Запуск 4: Прошло времени (мс): 72233\n",
      "Запуск 5: Прошло времени (мс): 80631\n",
      "Среднее значение - 87979.8\n",
      "\n",
      "Строковая + Стоблцовая матрица (количество строк и столбцов порядка 5000)\n",
      "Запуск 1: Прошло времени (мс): 84006\n",
      "Запуск 2: Прошло времени (мс): 85865\n",
      "Запуск 3: Прошло времени (мс): 86764\n",
      "Запуск 4: Прошло времени (мс): 82424\n",
      "Запуск 5: Прошло времени (мс): 89988\n",
      "Среднее значение - 85809.4\n"
     ]
    }
   ],
   "source": [
    "print(\"Стоблцовая + Строковая матрица (количество строк и столбцов порядка 5000)\")\n",
    "sum = 0   \n",
    "for i in range(5):\n",
    "    n = random.randint(4500, 5500)\n",
    "    m = random.randint(4500, 5500)\n",
    "\n",
    "    RowMatrix5 = RowsMatrix([[random.randint(1, 100) for __ in range(n)] for _ in range(m)])\n",
    "    ColMatrix5 = ColumnsMatrix([[random.randint(1, 100) for __ in range(m)] for _ in range(n)])\n",
    "\n",
    "    time_start = time.time()\n",
    "    ResMatrix5 = ColMatrix5 + RowMatrix5\n",
    "    time_end = time.time()\n",
    "    elapsed_time = round((time_end - time_start) * 10000)\n",
    "    sum += elapsed_time\n",
    "\n",
    "    print(f\"Запуск {i+1}: Прошло времени (мс): {elapsed_time}\")\n",
    "print(f\"Среднее значение - {sum/5}\\n\")\n",
    "\n",
    "print(\"Строковая + Стоблцовая матрица (количество строк и столбцов порядка 5000)\")\n",
    "sum = 0   \n",
    "for i in range(5):\n",
    "    n = random.randint(4500, 5500)\n",
    "    m = random.randint(4500, 5500)\n",
    "\n",
    "    RowMatrix6 = RowsMatrix([[random.randint(1, 100) for __ in range(n)] for _ in range(m)])\n",
    "    ColMatrix6 = ColumnsMatrix([[random.randint(1, 100) for __ in range(m)] for _ in range(n)])\n",
    "\n",
    "    time_start = time.time()\n",
    "    ResMatrix6 = RowMatrix6 + ColMatrix6\n",
    "    time_end = time.time()\n",
    "    elapsed_time = round((time_end - time_start) * 10000)\n",
    "    sum += elapsed_time\n",
    "\n",
    "    print(f\"Запуск {i+1}: Прошло времени (мс): {elapsed_time}\")\n",
    "print(f\"Среднее значение - {sum/5}\")"
   ]
  },
  {
   "attachments": {},
   "cell_type": "markdown",
   "metadata": {},
   "source": [
    "## Тест 4\n",
    "Умножение однотипных матриц"
   ]
  },
  {
   "cell_type": "code",
   "execution_count": 52,
   "metadata": {},
   "outputs": [
    {
     "name": "stdout",
     "output_type": "stream",
     "text": [
      "Пример: Умножение строковых матриц\n",
      "Исходные матрицы:\n",
      "68\t27\t53\t1\t99\t51\n",
      "42\t66\t28\t99\t41\t45\n",
      "37\t47\t80\t7\t85\t18\n",
      "56\t34\t86\t63\t80\t39\n",
      "48\t67\t20\t23\t92\t78\n",
      "22\t61\t20\t39\t19\t9\n",
      "15\t37\t19\t13\t25\t81\n",
      "\n",
      "69\t82\t70\t52\t28\t78\t88\n",
      "6\t24\t29\t80\t34\t79\t18\n",
      "82\t63\t41\t59\t1\t98\t84\n",
      "5\t25\t39\t38\t52\t25\t97\n",
      "46\t93\t39\t1\t88\t11\t49\n",
      "38\t53\t30\t2\t27\t71\t4\n",
      "11\t88\t19\t53\t59\t18\t28\n"
     ]
    },
    {
     "ename": "IndexError",
     "evalue": "list index out of range",
     "output_type": "error",
     "traceback": [
      "\u001b[0;31m---------------------------------------------------------------------------\u001b[0m",
      "\u001b[0;31mIndexError\u001b[0m                                Traceback (most recent call last)",
      "Cell \u001b[0;32mIn[52], line 13\u001b[0m\n\u001b[1;32m     10\u001b[0m \u001b[39mprint\u001b[39m(\u001b[39m\"\u001b[39m\u001b[39mИсходные матрицы:\u001b[39m\u001b[39m\\n\u001b[39;00m\u001b[39m\"\u001b[39m, RowMatrix1, \u001b[39m\"\u001b[39m\u001b[39m\\n\u001b[39;00m\u001b[39m\\n\u001b[39;00m\u001b[39m\"\u001b[39m, RowMatrix2, sep\u001b[39m=\u001b[39m\u001b[39m\"\u001b[39m\u001b[39m\"\u001b[39m)\n\u001b[1;32m     12\u001b[0m time_start \u001b[39m=\u001b[39m time\u001b[39m.\u001b[39mtime()\n\u001b[0;32m---> 13\u001b[0m RowMatrix3 \u001b[39m=\u001b[39m RowMatrix1 \u001b[39m*\u001b[39;49m RowMatrix2\n\u001b[1;32m     14\u001b[0m time_end \u001b[39m=\u001b[39m time\u001b[39m.\u001b[39mtime()\n\u001b[1;32m     16\u001b[0m \u001b[39mprint\u001b[39m(\u001b[39m\"\u001b[39m\u001b[39mКонечная матрица\u001b[39m\u001b[39m\\n\u001b[39;00m\u001b[39m\"\u001b[39m, RowMatrix3, \u001b[39m\"\u001b[39m\u001b[39m\\n\u001b[39;00m\u001b[39m\"\u001b[39m, sep\u001b[39m=\u001b[39m\u001b[39m\"\u001b[39m\u001b[39m\"\u001b[39m)\n",
      "Cell \u001b[0;32mIn[36], line 58\u001b[0m, in \u001b[0;36mRowsMatrix.__mul__\u001b[0;34m(self, other)\u001b[0m\n\u001b[1;32m     56\u001b[0m         \u001b[39mfor\u001b[39;00m j \u001b[39min\u001b[39;00m \u001b[39mrange\u001b[39m(other\u001b[39m.\u001b[39msize()[\u001b[39m1\u001b[39m]):\n\u001b[1;32m     57\u001b[0m             \u001b[39mfor\u001b[39;00m k \u001b[39min\u001b[39;00m \u001b[39mrange\u001b[39m(other\u001b[39m.\u001b[39msize()[\u001b[39m0\u001b[39m]):\n\u001b[0;32m---> 58\u001b[0m                 result[i][j] \u001b[39m+\u001b[39m\u001b[39m=\u001b[39m \u001b[39mself\u001b[39;49m\u001b[39m.\u001b[39;49mmatrix[i][k] \u001b[39m*\u001b[39m other\u001b[39m.\u001b[39mmatrix[k][j]\n\u001b[1;32m     59\u001b[0m     \u001b[39mreturn\u001b[39;00m RowsMatrix(result)\n\u001b[1;32m     60\u001b[0m \u001b[39melif\u001b[39;00m \u001b[39misinstance\u001b[39m(other, ColumnsMatrix):\n",
      "\u001b[0;31mIndexError\u001b[0m: list index out of range"
     ]
    }
   ],
   "source": [
    "print(\"Пример: Умножение строковых матриц\")\n",
    "\n",
    "n = random.randint(5, 7)\n",
    "m = random.randint(5, 7)\n",
    "k = random.randint(5, 7)\n",
    "\n",
    "RowMatrix1 = RowsMatrix([[random.randint(1, 100) for __ in range(m)] for _ in range(n)])\n",
    "RowMatrix2 = RowsMatrix([[random.randint(1, 100) for __ in range(n)] for _ in range(k)])\n",
    "\n",
    "print(\"Исходные матрицы:\\n\", RowMatrix1, \"\\n\\n\", RowMatrix2, sep=\"\")\n",
    "\n",
    "time_start = time.time()\n",
    "RowMatrix3 = RowMatrix1 * RowMatrix2\n",
    "time_end = time.time()\n",
    "\n",
    "print(\"Конечная матрица\\n\", RowMatrix3, \"\\n\", sep=\"\")\n",
    "print(f\"Прошло времени (мс): {(time_end - time_start) * 10000}\")"
   ]
  },
  {
   "attachments": {},
   "cell_type": "markdown",
   "metadata": {},
   "source": [
    "## Тест 5\n",
    "Умножение матриц разных типов"
   ]
  },
  {
   "cell_type": "code",
   "execution_count": 7,
   "metadata": {},
   "outputs": [
    {
     "name": "stdout",
     "output_type": "stream",
     "text": [
      "Пример: Строковая * Стоблцовая матрица\n",
      "Исходные матрицы:\n",
      "98\t79\t59\t52\t28\n",
      "54\t51\t61\t39\t13\n",
      "6\t12\t4\t23\t59\n",
      "70\t80\t20\t31\t50\n",
      "13\t50\t18\t39\t58\n",
      "53\t51\t49\t48\t9\n",
      "\n",
      "64\t71\t47\t45\t32\t17\n",
      "24\t44\t20\t38\t46\t4\n",
      "64\t3\t99\t43\t94\t25\n",
      "57\t4\t59\t68\t37\t5\n",
      "28\t63\t20\t62\t11\t21\n",
      "\n",
      "Конечная матрица\n",
      "15692\t12583\t15655\t15221\t14548\t4305\n",
      "11171\t7236\t12158\t10449\t11394\t3115\n",
      "3891\t4775\t3455\t6120\t2620\t1604\n",
      "10847\t11824\t9699\t12258\t9497\t3215\n",
      "7031\t6987\t6854\t9507\t6489\t2284\n",
      "10740\t6913\t11374\t10252\t10523\t2759\n",
      "\n",
      "Прошло времени (мс): 1.2373924255371094\n"
     ]
    }
   ],
   "source": [
    "print(\"Пример: Строковая * Стоблцовая матрица\")\n",
    "\n",
    "n = random.randint(5, 7)\n",
    "m = random.randint(5, 7)\n",
    "k = random.randint(5, 7)\n",
    "\n",
    "RowMatrix1 = RowsMatrix([[random.randint(1, 100) for __ in range(n)] for _ in range(m)])\n",
    "ColMatrix1 = ColumnsMatrix([[random.randint(1, 100) for __ in range(k)] for _ in range(m)])\n",
    "\n",
    "print(\"Исходные матрицы:\\n\", RowMatrix1, \"\\n\\n\", ColMatrix1, sep=\"\")\n",
    "\n",
    "time_start = time.time()\n",
    "ResMatrix1 = RowMatrix1 * ColMatrix1\n",
    "time_end = time.time()\n",
    "\n",
    "print(\"Конечная матрица\\n\", ResMatrix1, \"\\n\", sep=\"\")\n",
    "print(f\"Прошло времени (мс): {(time_end - time_start) * 10000}\")"
   ]
  },
  {
   "cell_type": "code",
   "execution_count": 44,
   "metadata": {},
   "outputs": [
    {
     "name": "stdout",
     "output_type": "stream",
     "text": [
      "Пример: Стоблцовая * Строковая матрица\n",
      "Исходные матрицы:\n",
      "81\t81\t38\t88\t68\t58\n",
      "21\t84\t4\t84\t88\t98\n",
      "33\t39\t78\t17\t48\t89\n",
      "83\t12\t73\t82\t49\t16\n",
      "92\t15\t61\t54\t50\t14\n",
      "94\t5\t68\t87\t65\t40\n",
      "59\t50\t57\t39\t41\t56\n",
      "\n",
      "\n",
      "31\t91\t95\t14\t88\t74\t60\n",
      "27\t8\t62\t31\t8\t36\t72\n",
      "45\t48\t64\t58\t11\t50\t99\n",
      "32\t37\t6\t96\t100\t31\t47\n",
      "44\t26\t10\t43\t42\t67\t84\n",
      "15\t66\t34\t74\t72\t64\t70\n",
      "33\t17\t90\t54\t84\t18\t2\n"
     ]
    },
    {
     "ename": "IndexError",
     "evalue": "list index out of range",
     "output_type": "error",
     "traceback": [
      "\u001b[0;31m---------------------------------------------------------------------------\u001b[0m",
      "\u001b[0;31mIndexError\u001b[0m                                Traceback (most recent call last)",
      "Cell \u001b[0;32mIn[44], line 13\u001b[0m\n\u001b[1;32m     10\u001b[0m \u001b[39mprint\u001b[39m(\u001b[39m\"\u001b[39m\u001b[39mИсходные матрицы:\u001b[39m\u001b[39m\\n\u001b[39;00m\u001b[39m\"\u001b[39m, ColMatrix2, \u001b[39m\"\u001b[39m\u001b[39m\\n\u001b[39;00m\u001b[39m\\n\u001b[39;00m\u001b[39m\"\u001b[39m, RowMatrix2, sep\u001b[39m=\u001b[39m\u001b[39m\"\u001b[39m\u001b[39m\"\u001b[39m)\n\u001b[1;32m     12\u001b[0m time_start \u001b[39m=\u001b[39m time\u001b[39m.\u001b[39mtime()\n\u001b[0;32m---> 13\u001b[0m ResMatrix2 \u001b[39m=\u001b[39m ColMatrix2 \u001b[39m*\u001b[39;49m RowMatrix2\n\u001b[1;32m     14\u001b[0m time_end \u001b[39m=\u001b[39m time\u001b[39m.\u001b[39mtime()\n\u001b[1;32m     16\u001b[0m \u001b[39mprint\u001b[39m(\u001b[39m\"\u001b[39m\u001b[39mКонечная матрица\u001b[39m\u001b[39m\\n\u001b[39;00m\u001b[39m\"\u001b[39m, ResMatrix1, \u001b[39m\"\u001b[39m\u001b[39m\\n\u001b[39;00m\u001b[39m\"\u001b[39m, sep\u001b[39m=\u001b[39m\u001b[39m\"\u001b[39m\u001b[39m\"\u001b[39m)\n",
      "Cell \u001b[0;32mIn[36], line 138\u001b[0m, in \u001b[0;36mColumnsMatrix.__mul__\u001b[0;34m(self, other)\u001b[0m\n\u001b[1;32m    136\u001b[0m     \u001b[39mfor\u001b[39;00m j \u001b[39min\u001b[39;00m \u001b[39mrange\u001b[39m(other\u001b[39m.\u001b[39msize()[\u001b[39m1\u001b[39m]):\n\u001b[1;32m    137\u001b[0m         \u001b[39mfor\u001b[39;00m k \u001b[39min\u001b[39;00m \u001b[39mrange\u001b[39m(other\u001b[39m.\u001b[39msize()[\u001b[39m0\u001b[39m]):\n\u001b[0;32m--> 138\u001b[0m             result[i][j] \u001b[39m+\u001b[39m\u001b[39m=\u001b[39m \u001b[39mself\u001b[39;49m\u001b[39m.\u001b[39;49mmatrix[k][i] \u001b[39m*\u001b[39m other\u001b[39m.\u001b[39mmatrix[k][j]\n\u001b[1;32m    139\u001b[0m \u001b[39mreturn\u001b[39;00m ColumnsMatrix(result)\n",
      "\u001b[0;31mIndexError\u001b[0m: list index out of range"
     ]
    }
   ],
   "source": [
    "print(\"Пример: Стоблцовая * Строковая матрица\")\n",
    "\n",
    "n = random.randint(5, 7)\n",
    "m = random.randint(5, 7)\n",
    "k = random.randint(5, 7)\n",
    "\n",
    "RowMatrix2 = RowsMatrix([[random.randint(1, 100) for __ in range(k)] for _ in range(n)])\n",
    "ColMatrix2 = ColumnsMatrix([[random.randint(1, 100) for __ in range(k)] for _ in range(m)])\n",
    "\n",
    "print(\"Исходные матрицы:\\n\", ColMatrix2, \"\\n\\n\", RowMatrix2, sep=\"\")\n",
    "\n",
    "time_start = time.time()\n",
    "ResMatrix2 = ColMatrix2 * RowMatrix2\n",
    "time_end = time.time()\n",
    "\n",
    "print(\"Конечная матрица\\n\", ResMatrix1, \"\\n\", sep=\"\")\n",
    "print(f\"Прошло времени (мс): {(time_end - time_start) * 10000}\")"
   ]
  }
 ],
 "metadata": {
  "kernelspec": {
   "display_name": "Python 3",
   "language": "python",
   "name": "python3"
  },
  "language_info": {
   "codemirror_mode": {
    "name": "ipython",
    "version": 3
   },
   "file_extension": ".py",
   "mimetype": "text/x-python",
   "name": "python",
   "nbconvert_exporter": "python",
   "pygments_lexer": "ipython3",
   "version": "3.10.11"
  },
  "orig_nbformat": 4
 },
 "nbformat": 4,
 "nbformat_minor": 2
}
