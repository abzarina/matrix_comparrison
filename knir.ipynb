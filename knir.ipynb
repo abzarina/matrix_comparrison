{
 "cells": [
  {
   "cell_type": "code",
   "execution_count": 1,
   "metadata": {},
   "outputs": [],
   "source": [
    "import copy"
   ]
  },
  {
   "cell_type": "code",
   "execution_count": 2,
   "metadata": {},
   "outputs": [],
   "source": [
    "class RowsMatrix():\n",
    "    def __init__(self, list_of_lists):\n",
    "        self.matrix = copy.deepcopy(list_of_lists)\n",
    "\n",
    "    def __str__(self):\n",
    "        return '\\n'.join('\\t'.join(map(str, row))\n",
    "                         for row in self.matrix)\n",
    "    \n",
    "    def size(self):\n",
    "        rows = len(self.matrix)\n",
    "        cols = len(self.matrix[0])\n",
    "        return (rows, cols)\n",
    "    \n",
    "    def transpose(self):\n",
    "        (cols, rows) = (self.size()[0], self.size()[1])\n",
    "\n",
    "        transposed_matrix = [[0] * cols for _ in range(rows)]\n",
    "\n",
    "        for i in range(cols):\n",
    "            for j in range(rows):\n",
    "                transposed_matrix[j][i] = self.matrix[i][j]\n",
    "        return(RowsMatrix(transposed_matrix))\n",
    "    \n",
    "    def __add__(self, other):\n",
    "        if not (isinstance(other, RowsMatrix) or isinstance(other, ColumnsMatrix)):\n",
    "            raise ValueError(\"Матрицу можно складывать только с матрицей\")\n",
    "        if self.size()[0] != other.size()[0] or self.size()[1] != other.size()[1]:\n",
    "            raise ValueError(\"Матрицы должны иметь одинаковые размеры.\")\n",
    "        if isinstance(other, RowsMatrix):\n",
    "            result = [[0] * self.size()[1] for _ in range(self.size()[0])]\n",
    "            for i in range(self.size()[0]):\n",
    "                for j in range(self.size()[1]):\n",
    "                    result[i][j] = self.matrix[i][j] + other.matrix[i][j]\n",
    "            return RowsMatrix(result)\n",
    "        elif isinstance(other, ColumnsMatrix):\n",
    "            result = [[0] * self.size()[1] for _ in range(self.size()[0])]\n",
    "            for i in range(self.size()[0]):\n",
    "                for j in range(self.size()[1]):\n",
    "                    result[i][j] = self.matrix[i][j] + other.matrix[j][i]\n",
    "            return RowsMatrix(result)\n",
    "        \n",
    "    def __mul__(self, other):\n",
    "        if isinstance(other, int) or isinstance(other, float):\n",
    "            result = [[0] * self.size()[1] for _ in range(self.size()[0])]\n",
    "            for i in range(self.size()[0]):\n",
    "                for j in range(self.size()[1]):\n",
    "                    result[i][j] = self.matrix[i][j] * other\n",
    "            return RowsMatrix(result)\n",
    "        elif not (isinstance(other, RowsMatrix) or isinstance(other, ColumnsMatrix)):\n",
    "            raise ValueError(f\"Операция умножения не определена для данного типа данных\")\n",
    "        if self.size()[0] != other.size()[1]:\n",
    "            raise ValueError(\"Матрицы должны иметь подходящие размеры.\")\n",
    "        if isinstance(other, RowsMatrix):\n",
    "            result = [[0] * other.size()[1] for _ in range(self.size()[0])]\n",
    "            for i in range(self.size()[0]):\n",
    "                for j in range(other.size()[1]):\n",
    "                    for k in range(self.size()[1]):\n",
    "                        result[i][j] += self.matrix[i][k] * other.matrix[k][j]\n",
    "            return RowsMatrix(result)\n",
    "        elif isinstance(other, ColumnsMatrix):\n",
    "            result = [[0] * other.size()[1] for _ in range(self.size()[0])]\n",
    "            for i in range(self.size()[0]):\n",
    "                for j in range(other.size()[1]):\n",
    "                    for k in range(self.size()[1]):\n",
    "                        result[i][j] += self.matrix[i][k] * other.matrix[j][k]\n",
    "            return RowsMatrix(result)\n",
    "\n",
    "\n",
    "class ColumnsMatrix():\n",
    "    def __init__(self, list_of_lists):\n",
    "        self.matrix = copy.deepcopy(list_of_lists)\n",
    "\n",
    "    def size(self):\n",
    "        rows = len(self.matrix[0])\n",
    "        cols = len(self.matrix)\n",
    "        return (rows, cols)\n",
    "\n",
    "    def __str__(self):\n",
    "        rows = self.size()[0]\n",
    "        string = \"\"\n",
    "        for row in range(rows):\n",
    "            string +=\"\\t\".join(map(str, [self.matrix[col][row]\n",
    "                                         for col in range(len(self.matrix))]))\n",
    "            string += \"\\n\"\n",
    "        return string\n",
    "    \n",
    "    def transpose(self):\n",
    "        (cols, rows) = (self.size()[0], self.size()[1])\n",
    "\n",
    "        transposed_matrix = [[0] * rows for _ in range(cols)]\n",
    "\n",
    "        for i in range(rows):\n",
    "            for j in range(cols):\n",
    "                transposed_matrix[j][i] = self.matrix[i][j]\n",
    "        return ColumnsMatrix(transposed_matrix)\n",
    "\n",
    "    def __add__(self, other):\n",
    "        if not (isinstance(other, RowsMatrix) or isinstance(other, ColumnsMatrix)):\n",
    "            raise ValueError(\"Матрицу можно складывать только с матрицей\")\n",
    "        if self.size()[0] != other.size()[0] or self.size()[1] != other.size()[1]:\n",
    "            raise ValueError(\"Матрицы должны иметь одинаковые размеры.\")\n",
    "        if isinstance(other, ColumnsMatrix):\n",
    "            result = [[0] * self.size()[0] for _ in range(self.size()[1])]\n",
    "            for i in range(self.size()[1]):\n",
    "                for j in range(self.size()[0]):\n",
    "                    result[i][j] = self.matrix[i][j] + other.matrix[i][j]\n",
    "            return ColumnsMatrix(result)\n",
    "        elif isinstance(other, RowsMatrix):\n",
    "            result = [[0] * self.size()[0] for _ in range(self.size()[1])]\n",
    "            for i in range(self.size()[1]):\n",
    "                for j in range(self.size()[0]):\n",
    "                    result[i][j] = self.matrix[i][j] + other.matrix[j][i]\n",
    "            print(result)\n",
    "            return ColumnsMatrix(result)\n",
    "        \n",
    "    def __mul__(self, other):\n",
    "        if isinstance(other, int) or isinstance(other, float):\n",
    "            result = [[0] * self.size()[0] for _ in range(self.size()[1])]\n",
    "            for i in range(self.size()[1]):\n",
    "                for j in range(self.size()[0]):\n",
    "                    result[i][j] = self.matrix[i][j] * other\n",
    "            return ColumnsMatrix(result)\n",
    "        elif not (isinstance(other, RowsMatrix) or isinstance(other, ColumnsMatrix)):\n",
    "            raise ValueError(f\"Операция умножения не определена для данного типа данных\")\n",
    "        if self.size()[0] != other.size()[1]:\n",
    "            raise ValueError(\"Матрицы должны иметь подходящие размеры.\")\n",
    "        if isinstance(other, ColumnsMatrix):\n",
    "            result = [[0] * other.size()[1] for _ in range(self.size()[0])]\n",
    "            for i in range(self.size()[0]):\n",
    "                for j in range(other.size()[1]):\n",
    "                    for k in range(self.size()[1]):\n",
    "                        result[i][j] += self.matrix[k][i] * other.matrix[j][k]\n",
    "                    print(result)\n",
    "            return ColumnsMatrix(result)\n",
    "        elif isinstance(other, RowsMatrix):\n",
    "            result = [[0] * other.size()[1] for _ in range(self.size()[0])]\n",
    "            for i in range(self.size()[0]):\n",
    "                for j in range(other.size()[1]):\n",
    "                    for k in range(self.size()[1]):\n",
    "                        result[i][j] += self.matrix[k][i] * other.matrix[k][j]\n",
    "            return ColumnsMatrix(result)"
   ]
  },
  {
   "attachments": {},
   "cell_type": "markdown",
   "metadata": {},
   "source": [
    "## Тест 1\n",
    "Транспозиция матриц"
   ]
  },
  {
   "cell_type": "code",
   "execution_count": 3,
   "metadata": {},
   "outputs": [],
   "source": [
    "import time\n",
    "import random"
   ]
  },
  {
   "cell_type": "code",
   "execution_count": 4,
   "metadata": {},
   "outputs": [
    {
     "name": "stdout",
     "output_type": "stream",
     "text": [
      "Транспозиция строковой матрицы (небольшие значения <10)\n",
      "Исходная матрица:\n",
      "1\t2\t3\t4\t5\t6\n",
      "7\t8\t9\t10\t11\t12\n",
      "13\t14\t15\t16\t17\t18\n",
      "\n",
      "Конечная матрица\n",
      "1\t7\t13\n",
      "2\t8\t14\n",
      "3\t9\t15\n",
      "4\t10\t16\n",
      "5\t11\t17\n",
      "6\t12\t18\n",
      "\n",
      "Прошло времени (мс): 0.5483627319335938\n"
     ]
    }
   ],
   "source": [
    "print(\"Транспозиция строковой матрицы (небольшие значения <10)\")\n",
    "\n",
    "RowMatrix1 = RowsMatrix([[1, 2, 3, 4, 5, 6], [7, 8, 9, 10, 11, 12], [13, 14, 15, 16, 17, 18]])\n",
    "print(\"Исходная матрица:\\n\", RowMatrix1, \"\\n\", sep=\"\")\n",
    "\n",
    "time_start = time.time()\n",
    "RowMatrix1_T = RowMatrix1.transpose()\n",
    "time_end = time.time()\n",
    "\n",
    "print(\"Конечная матрица\\n\", RowMatrix1_T, \"\\n\", sep=\"\")\n",
    "print(f\"Прошло времени (мс): {(time_end - time_start) * 10000}\")\n"
   ]
  },
  {
   "cell_type": "code",
   "execution_count": 15,
   "metadata": {},
   "outputs": [
    {
     "name": "stdout",
     "output_type": "stream",
     "text": [
      "Транспозиция строковой матрицы (900-1100 строк и стобцов)\n",
      "Прошло времени (мс): 2727\n"
     ]
    }
   ],
   "source": [
    "print(\"Транспозиция строковой матрицы (900-1100 строк и стобцов)\")\n",
    "n = random.randint(900, 1100)\n",
    "m = random.randint(900, 1100)\n",
    "\n",
    "RowMatrix2 = RowsMatrix([[random.randint(1, 100)] * m for _ in range(n)])\n",
    "\n",
    "time_start = time.time()\n",
    "RowMatrix2_T = RowMatrix2.transpose()\n",
    "time_end = time.time()\n",
    "\n",
    "print(f\"Прошло времени (мс): {round((time_end - time_start) * 10000)}\")\n"
   ]
  },
  {
   "cell_type": "code",
   "execution_count": 16,
   "metadata": {},
   "outputs": [
    {
     "name": "stdout",
     "output_type": "stream",
     "text": [
      "Транспозиция строковой матрицы (10 000 строк и стобцов)\n",
      "Прошло времени (мс): 362532\n"
     ]
    }
   ],
   "source": [
    "print(\"Транспозиция строковой матрицы (9 000-11 000 строк и стобцов)\")\n",
    "n = random.randint(9000, 11000)\n",
    "m = random.randint(9000, 11000)\n",
    "\n",
    "RowMatrix3 = RowsMatrix([[random.randint(1, 100)] * m for _ in range(n)])\n",
    "\n",
    "time_start = time.time()\n",
    "RowMatrix3_T = RowMatrix3.transpose()\n",
    "time_end = time.time()\n",
    "\n",
    "print(f\"Прошло времени (мс): {round((time_end - time_start) * 10000)}\")"
   ]
  },
  {
   "cell_type": "code",
   "execution_count": 6,
   "metadata": {},
   "outputs": [
    {
     "name": "stdout",
     "output_type": "stream",
     "text": [
      "Транспозиция столбцовой матрицы (небольшие значения <10)\n",
      "Исходная матрица:\n",
      "1\t7\t13\n",
      "2\t8\t14\n",
      "3\t9\t15\n",
      "4\t10\t16\n",
      "5\t11\t17\n",
      "6\t12\t18\n",
      "\n",
      "\n",
      "Конечная матрица\n",
      "1\t2\t3\t4\t5\t6\n",
      "7\t8\t9\t10\t11\t12\n",
      "13\t14\t15\t16\t17\t18\n",
      "\n",
      "\n",
      "Прошло времени (мс): 0.29087066650390625\n"
     ]
    }
   ],
   "source": [
    "print(\"Транспозиция столбцовой матрицы (небольшие значения <10)\")\n",
    "\n",
    "ColsMatrix1 = ColumnsMatrix([[1, 2, 3, 4, 5, 6], [7, 8, 9, 10, 11, 12], [13, 14, 15, 16, 17, 18]])\n",
    "print(\"Исходная матрица:\\n\", ColsMatrix1, \"\\n\", sep=\"\")\n",
    "\n",
    "time_start = time.time()\n",
    "ColsMatrix1_T = ColsMatrix1.transpose()\n",
    "time_end = time.time()\n",
    "\n",
    "print(\"Конечная матрица\\n\", ColsMatrix1_T, \"\\n\", sep=\"\")\n",
    "print(f\"Прошло времени (мс): {(time_end - time_start) * 10000}\")"
   ]
  },
  {
   "cell_type": "code",
   "execution_count": 16,
   "metadata": {},
   "outputs": [
    {
     "name": "stdout",
     "output_type": "stream",
     "text": [
      "Транспозиция стобцовой матрицы (900-1100 строк и стобцов)\n",
      "Прошло времени (мс): 2597\n"
     ]
    }
   ],
   "source": [
    "print(\"Транспозиция стобцовой матрицы (900-1100 строк и стобцов)\")\n",
    "n = random.randint(900, 1100)\n",
    "m = random.randint(900, 1100)\n",
    "\n",
    "ColsMatrix2 = ColumnsMatrix([[random.randint(1, 100)] * m for _ in range(n)])\n",
    "\n",
    "time_start = time.time()\n",
    "ColsMatrix2_T = ColsMatrix2.transpose()\n",
    "time_end = time.time()\n",
    "\n",
    "print(f\"Прошло времени (мс): {round((time_end - time_start) * 10000)}\")\n"
   ]
  },
  {
   "cell_type": "code",
   "execution_count": 17,
   "metadata": {},
   "outputs": [
    {
     "name": "stdout",
     "output_type": "stream",
     "text": [
      "Транспозиция строковой матрицы (9 000-11 000 строк и стобцов)\n",
      "Прошло времени (мс): 306452\n"
     ]
    }
   ],
   "source": [
    "print(\"Транспозиция строковой матрицы (9 000-11 000 строк и стобцов)\")\n",
    "n = random.randint(9000, 11000)\n",
    "m = random.randint(9000, 11000)\n",
    "\n",
    "ColsMatrix3 = ColumnsMatrix([[random.randint(1, 100)] * m for _ in range(n)])\n",
    "\n",
    "time_start = time.time()\n",
    "ColsMatrix3_T = ColsMatrix3.transpose()\n",
    "time_end = time.time()\n",
    "\n",
    "print(f\"Прошло времени (мс): {round((time_end - time_start) * 10000)}\")"
   ]
  },
  {
   "attachments": {},
   "cell_type": "markdown",
   "metadata": {},
   "source": [
    "## Тест 2\n",
    "Сложение матриц одного типа"
   ]
  },
  {
   "cell_type": "code",
   "execution_count": 10,
   "metadata": {},
   "outputs": [
    {
     "name": "stdout",
     "output_type": "stream",
     "text": [
      "Сложение матриц (небольшие значения)\n",
      "Исходные матрицы:\n",
      "95\t28\t43\t9\t76\t6\n",
      "7\t45\t93\t10\t33\t12\n",
      "2\t14\t135\t16\t12\t18\n",
      "\n",
      "3\t6\t24\t46\t3\t65\n",
      "1\t8\t245\t42\t56\t1\n",
      "90\t184\t125\t116\t27\t18\n",
      "Конечная матрица\n",
      "98\t34\t67\t55\t79\t71\n",
      "8\t53\t338\t52\t89\t13\n",
      "92\t198\t260\t132\t39\t36\n",
      "\n",
      "Прошло времени (мс): 0.591278076171875\n"
     ]
    }
   ],
   "source": [
    "print(\"Сложение строковых матриц (небольшие значения)\")\n",
    "\n",
    "RowMatrix1 = RowsMatrix([[95, 28, 43, 9, 76, 6], [7, 45, 93, 10, 33, 12], [2, 14, 135, 16, 12, 18]])\n",
    "RowMatrix2 = RowsMatrix([[3, 6, 24, 46, 3, 65], [1, 8, 245, 42, 56, 1], [90, 184, 125, 116, 27, 18]])\n",
    "\n",
    "print(\"Исходные матрицы:\\n\", RowMatrix1, \"\\n\\n\", RowMatrix2, sep=\"\")\n",
    "\n",
    "time_start = time.time()\n",
    "RowMatrix3 = RowMatrix1 + RowMatrix2\n",
    "time_end = time.time()\n",
    "\n",
    "print(\"Конечная матрица\\n\", RowMatrix3, \"\\n\", sep=\"\")\n",
    "print(f\"Прошло времени (мс): {(time_end - time_start) * 10000}\")"
   ]
  },
  {
   "cell_type": "code",
   "execution_count": 20,
   "metadata": {},
   "outputs": [
    {
     "name": "stdout",
     "output_type": "stream",
     "text": [
      "Сложение строковых матриц (количество строк и столбцов порядка 1000)\n",
      "Прошло времени (мс): 7907.989025115967\n"
     ]
    }
   ],
   "source": [
    "print(\"Сложение строковых матриц (количество строк и столбцов порядка 1000)\")\n",
    "n = random.randint(900, 1100)\n",
    "m = random.randint(900, 1100)\n",
    "\n",
    "RowMatrix4 = RowsMatrix([[[random.randint(1, 100)] * m for _ in range(n)]])\n",
    "RowMatrix5 = RowsMatrix([[[random.randint(1, 100)] * m for _ in range(n)]])\n",
    "\n",
    "time_start = time.time()\n",
    "RowMatrix6 = RowMatrix4 + RowMatrix5\n",
    "time_end = time.time()\n",
    "\n",
    "print(f\"Прошло времени (мс): {(time_end - time_start) * 10000}\")"
   ]
  },
  {
   "cell_type": "code",
   "execution_count": 21,
   "metadata": {},
   "outputs": [
    {
     "name": "stdout",
     "output_type": "stream",
     "text": [
      "Сложение строковых матриц (количество строк и столбцов порядка 10000)\n",
      "Прошло времени (мс): 515248.5680580139\n"
     ]
    }
   ],
   "source": [
    "print(\"Сложение строковых матриц (количество строк и столбцов порядка 10000)\")\n",
    "n = random.randint(9000, 11000)\n",
    "m = random.randint(9000, 11000)\n",
    "\n",
    "RowMatrix7 = RowsMatrix([[[random.randint(1, 100)] * m for _ in range(n)]])\n",
    "RowMatrix8 = RowsMatrix([[[random.randint(1, 100)] * m for _ in range(n)]])\n",
    "\n",
    "time_start = time.time()\n",
    "RowMatrix9 = RowMatrix7 + RowMatrix8\n",
    "time_end = time.time()\n",
    "\n",
    "print(f\"Прошло времени (мс): {(time_end - time_start) * 10000}\")"
   ]
  },
  {
   "cell_type": "code",
   "execution_count": 22,
   "metadata": {},
   "outputs": [
    {
     "name": "stdout",
     "output_type": "stream",
     "text": [
      "Сложение стобцовых матриц (небольшие значения)\n",
      "Исходные матрицы:\n",
      "95\t7\t2\n",
      "28\t45\t14\n",
      "43\t93\t135\n",
      "9\t10\t16\n",
      "76\t33\t12\n",
      "6\t12\t18\n",
      "\n",
      "\n",
      "3\t1\t90\n",
      "6\t8\t184\n",
      "24\t245\t125\n",
      "46\t42\t116\n",
      "3\t56\t27\n",
      "65\t1\t18\n",
      "\n",
      "Конечная матрица\n",
      "98\t8\t92\n",
      "34\t53\t198\n",
      "67\t338\t260\n",
      "55\t52\t132\n",
      "79\t89\t39\n",
      "71\t13\t36\n",
      "\n",
      "\n",
      "Прошло времени (мс): 0.5578994750976562\n"
     ]
    }
   ],
   "source": [
    "print(\"Сложение стобцовых матриц (небольшие значения)\")\n",
    "\n",
    "ColMatrix1 = ColumnsMatrix([[95, 28, 43, 9, 76, 6], [7, 45, 93, 10, 33, 12], [2, 14, 135, 16, 12, 18]])\n",
    "ColMatrix2 = ColumnsMatrix([[3, 6, 24, 46, 3, 65], [1, 8, 245, 42, 56, 1], [90, 184, 125, 116, 27, 18]])\n",
    "\n",
    "print(\"Исходные матрицы:\\n\", ColMatrix1, \"\\n\\n\", ColMatrix2, sep=\"\")\n",
    "\n",
    "time_start = time.time()\n",
    "ColMatrix3 = ColMatrix1 + ColMatrix2\n",
    "time_end = time.time()\n",
    "\n",
    "print(\"Конечная матрица\\n\", ColMatrix3, \"\\n\", sep=\"\")\n",
    "print(f\"Прошло времени (мс): {(time_end - time_start) * 10000}\")"
   ]
  },
  {
   "cell_type": "code",
   "execution_count": 23,
   "metadata": {},
   "outputs": [
    {
     "name": "stdout",
     "output_type": "stream",
     "text": [
      "Сложение стобцовых матриц (количество строк и столбцов порядка 1000)\n",
      "Прошло времени (мс): 4277.20308303833\n"
     ]
    }
   ],
   "source": [
    "print(\"Сложение стобцовых матриц (количество строк и столбцов порядка 1000)\")\n",
    "n = random.randint(900, 1100)\n",
    "m = random.randint(900, 1100)\n",
    "\n",
    "ColMatrix4 = ColumnsMatrix([[[random.randint(1, 100)] * m for _ in range(n)]])\n",
    "ColMatrix5 = ColumnsMatrix([[[random.randint(1, 100)] * m for _ in range(n)]])\n",
    "\n",
    "time_start = time.time()\n",
    "ColMatrix6 = ColMatrix4 + ColMatrix5\n",
    "time_end = time.time()\n",
    "\n",
    "print(f\"Прошло времени (мс): {(time_end - time_start) * 10000}\")"
   ]
  },
  {
   "cell_type": "code",
   "execution_count": 24,
   "metadata": {},
   "outputs": [
    {
     "name": "stdout",
     "output_type": "stream",
     "text": [
      "Сложение стобцовых матриц (количество строк и столбцов порядка 10000)\n",
      "Прошло времени (мс): 602699.6278762817\n"
     ]
    }
   ],
   "source": [
    "print(\"Сложение стобцовых матриц (количество строк и столбцов порядка 10000)\")\n",
    "n = random.randint(9000, 11000)\n",
    "m = random.randint(9000, 11000)\n",
    "\n",
    "ColMatrix7 = ColumnsMatrix([[[random.randint(1, 100)] * m for _ in range(n)]])\n",
    "ColMatrix8 = ColumnsMatrix([[[random.randint(1, 100)] * m for _ in range(n)]])\n",
    "\n",
    "time_start = time.time()\n",
    "ColMatrix9 = ColMatrix7 + ColMatrix8\n",
    "time_end = time.time()\n",
    "\n",
    "print(f\"Прошло времени (мс): {(time_end - time_start) * 10000}\")"
   ]
  }
 ],
 "metadata": {
  "kernelspec": {
   "display_name": "Python 3",
   "language": "python",
   "name": "python3"
  },
  "language_info": {
   "codemirror_mode": {
    "name": "ipython",
    "version": 3
   },
   "file_extension": ".py",
   "mimetype": "text/x-python",
   "name": "python",
   "nbconvert_exporter": "python",
   "pygments_lexer": "ipython3",
   "version": "3.10.11"
  },
  "orig_nbformat": 4
 },
 "nbformat": 4,
 "nbformat_minor": 2
}
